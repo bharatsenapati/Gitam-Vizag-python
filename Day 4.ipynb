{
 "cells": [
  {
   "cell_type": "markdown",
   "metadata": {},
   "source": [
    "### String Formating\n",
    " - classic version\n",
    " - current version python "
   ]
  },
  {
   "cell_type": "code",
   "execution_count": 4,
   "metadata": {},
   "outputs": [
    {
     "name": "stdout",
     "output_type": "stream",
     "text": [
      "Python Programming\n",
      "1 2 3 4\n"
     ]
    }
   ],
   "source": [
    "# Classic version (c or c++)\n",
    "li=['Python','Programming']\n",
    "print('%s %s'%(li[0],li[1]))\n",
    "l=[1,2,3,4]\n",
    "print('%d %d %d %d' %(l[0],l[1],l[2],l[3]))"
   ]
  },
  {
   "cell_type": "code",
   "execution_count": 9,
   "metadata": {},
   "outputs": [
    {
     "name": "stdout",
     "output_type": "stream",
     "text": [
      "list items: python programming\n",
      "Item 0 : python\n",
      "Item 1 : programming\n"
     ]
    }
   ],
   "source": [
    "# .format\n",
    "li=['python','programming']\n",
    "print('list items: {0} {1}'.format(li[0],li[1]) )\n",
    "for i in range(len(li)):\n",
    "    print('Item {0} : {1}'.format(i,li[i]))"
   ]
  },
  {
   "cell_type": "markdown",
   "metadata": {},
   "source": [
    "### Data structures\n",
    " - list\n",
    " - tuple\n",
    " - dictionaries"
   ]
  },
  {
   "cell_type": "markdown",
   "metadata": {},
   "source": [
    "### Dictionaries\n",
    " - it works on the concept of unique data\n",
    " - key,value is the unique identifies a value\n",
    " - Each key is seperatd from value by colon(:)\n",
    " - Each key and value is seperate by comma(,)\n",
    " - Dictionaries are enclised in curly braces{}\n"
   ]
  },
  {
   "cell_type": "code",
   "execution_count": 14,
   "metadata": {},
   "outputs": [
    {
     "name": "stdout",
     "output_type": "stream",
     "text": [
      "{'Name': 'Bharat', 'EmailId': 'bharat.senapathi.3@gmail.com', 'Adress': 'Vizag'}\n",
      "bharat.senapathi.3@gmail.com\n"
     ]
    }
   ],
   "source": [
    "d={'Name':'Bharat','EmailId':'bharat.senapathi.3@gmail.com','Adress':'Vizag'}\n",
    "print(d)\n",
    "print(d[\"EmailId\"])\n",
    "\n"
   ]
  },
  {
   "cell_type": "code",
   "execution_count": 17,
   "metadata": {},
   "outputs": [
    {
     "name": "stdout",
     "output_type": "stream",
     "text": [
      "{'Name': 'Bharat', 'EmailId': 'bharat.senapathi.3@gmail.com', 'Adress': 'New York'}\n"
     ]
    }
   ],
   "source": [
    "d['Adress']='New York'\n",
    "print(d)"
   ]
  },
  {
   "cell_type": "code",
   "execution_count": 20,
   "metadata": {},
   "outputs": [
    {
     "name": "stdout",
     "output_type": "stream",
     "text": [
      "dict_keys(['Name', 'EmailId', 'Adress'])\n",
      "dict_values(['Bharat', 'bharat.senapathi.3@gmail.com', 'New York'])\n"
     ]
    }
   ],
   "source": [
    "print(d.keys())    # All the key in terms of list\n",
    "print(d.values())  # All the values in terms of list"
   ]
  },
  {
   "cell_type": "code",
   "execution_count": 23,
   "metadata": {},
   "outputs": [
    {
     "ename": "KeyError",
     "evalue": "'Adress'",
     "output_type": "error",
     "traceback": [
      "\u001b[1;31m---------------------------------------------------------------------------\u001b[0m",
      "\u001b[1;31mKeyError\u001b[0m                                  Traceback (most recent call last)",
      "\u001b[1;32m<ipython-input-23-b9a8c10f997e>\u001b[0m in \u001b[0;36m<module>\u001b[1;34m\u001b[0m\n\u001b[1;32m----> 1\u001b[1;33m \u001b[1;32mdel\u001b[0m \u001b[0md\u001b[0m\u001b[1;33m[\u001b[0m\u001b[1;34m'Adress'\u001b[0m\u001b[1;33m]\u001b[0m\u001b[1;33m\u001b[0m\u001b[1;33m\u001b[0m\u001b[0m\n\u001b[0m",
      "\u001b[1;31mKeyError\u001b[0m: 'Adress'"
     ]
    }
   ],
   "source": [
    "del d['Adress'] # deleting an key from dictionary"
   ]
  },
  {
   "cell_type": "code",
   "execution_count": 26,
   "metadata": {},
   "outputs": [
    {
     "name": "stdout",
     "output_type": "stream",
     "text": [
      "{'Name': 'Bharat', 'EmailId': 'bharat.senapathi.3@gmail.com'}\n"
     ]
    },
    {
     "data": {
      "text/plain": [
       "{'Name': 'Bharat', 'EmailId': 'bharat.senapathi.3@gmail.com'}"
      ]
     },
     "execution_count": 26,
     "metadata": {},
     "output_type": "execute_result"
    }
   ],
   "source": [
    "print(d)\n",
    "d"
   ]
  },
  {
   "cell_type": "markdown",
   "metadata": {},
   "source": [
    "### Contact Application\n",
    "   - Add contact\n",
    "   "
   ]
  },
  {
   "cell_type": "code",
   "execution_count": 33,
   "metadata": {},
   "outputs": [
    {
     "name": "stdout",
     "output_type": "stream",
     "text": [
      "bharat\n",
      "9441517235\n",
      "Contact Details are added sucessfully\n"
     ]
    }
   ],
   "source": [
    "contact={}\n",
    "def addcontact(name,phone):\n",
    "    if name not in contact :\n",
    "        contact[name]=phone\n",
    "        print('Contact Details are added sucessfully')\n",
    "    else:\n",
    "        print(\"Details already Exist\")\n",
    "    return\n",
    "addcontact(input(),input())"
   ]
  },
  {
   "cell_type": "code",
   "execution_count": 36,
   "metadata": {},
   "outputs": [
    {
     "name": "stdout",
     "output_type": "stream",
     "text": [
      "bharat : 9441517235\n",
      "sandeep does not present\n"
     ]
    }
   ],
   "source": [
    "def searchContact(name):\n",
    "    if name in contact:\n",
    "        print(name,\":\",contact[name])\n",
    "    else:\n",
    "        print('{0} does not present'.format(name))\n",
    "    return\n",
    "searchContact('bharat')\n",
    "searchContact('sandeep')"
   ]
  },
  {
   "cell_type": "code",
   "execution_count": 41,
   "metadata": {},
   "outputs": [
    {
     "name": "stdout",
     "output_type": "stream",
     "text": [
      "3 Contacts are updated\n"
     ]
    }
   ],
   "source": [
    "def importcontact(newContact):\n",
    "    contact.update(newContact)\n",
    "    print(len(newContact.keys()),'Contacts are updated')\n",
    "    return\n",
    "importcontact({'rohit':124577,'sandy':547896,'lokesh':789465})\n",
    "    "
   ]
  },
  {
   "cell_type": "code",
   "execution_count": 43,
   "metadata": {},
   "outputs": [
    {
     "data": {
      "text/plain": [
       "{'bharat': '9441517235', 'rohit': 124577, 'sandy': 547896, 'lokesh': 789465}"
      ]
     },
     "execution_count": 43,
     "metadata": {},
     "output_type": "execute_result"
    }
   ],
   "source": [
    "contact"
   ]
  },
  {
   "cell_type": "code",
   "execution_count": 52,
   "metadata": {},
   "outputs": [
    {
     "name": "stdout",
     "output_type": "stream",
     "text": [
      "Name updated succefully\n",
      "yeswhant not found\n"
     ]
    }
   ],
   "source": [
    "def modify(name,phone):\n",
    "    if name in contact:\n",
    "        contact[name]=phone\n",
    "        print(\"Name updated succefully\")\n",
    "    else :\n",
    "        print(name,\"not found\")\n",
    "    return\n",
    "modify('sandy',44444)\n",
    "modify('yeswhant',5987456)"
   ]
  },
  {
   "cell_type": "code",
   "execution_count": 53,
   "metadata": {},
   "outputs": [
    {
     "data": {
      "text/plain": [
       "{'bharat': '9441517235', 'rohit': 124577, 'sandy': 44444, 'lokesh': 789465}"
      ]
     },
     "execution_count": 53,
     "metadata": {},
     "output_type": "execute_result"
    }
   ],
   "source": [
    "contact"
   ]
  },
  {
   "cell_type": "code",
   "execution_count": 58,
   "metadata": {},
   "outputs": [
    {
     "name": "stdout",
     "output_type": "stream",
     "text": [
      "{'b': 5, 'd': 45, 'l': 78}\n"
     ]
    }
   ],
   "source": [
    "d1={'b':5,'d':45,'l':78}\n",
    "print(d1)"
   ]
  },
  {
   "cell_type": "code",
   "execution_count": 62,
   "metadata": {},
   "outputs": [
    {
     "name": "stdout",
     "output_type": "stream",
     "text": [
      "sandy Not Found\n",
      "Anil Not Found\n"
     ]
    }
   ],
   "source": [
    "# deleting a contact info\n",
    "def deleteContact(name):\n",
    "    if name in contact:\n",
    "        del contact[name]\n",
    "        print(name,'Deleted sucessfully')\n",
    "    else:\n",
    "        print(name,'Not Found')\n",
    "    return\n",
    "deleteContact('sandy')\n",
    "deleteContact('Anil')"
   ]
  },
  {
   "cell_type": "markdown",
   "metadata": {},
   "source": [
    "### Tuples\n",
    " - Tuples enclosed with parenthesis{}\n",
    "### Difference between Tuples and a list\n",
    " - list are mutable -- can be changed\n",
    " - tuples are imutable -- cannot be changed\n",
    "     - Read only purpose\n",
    "     "
   ]
  },
  {
   "cell_type": "code",
   "execution_count": 74,
   "metadata": {},
   "outputs": [
    {
     "name": "stdout",
     "output_type": "stream",
     "text": [
      "(1, 2, 3, 4)\n",
      "<class 'tuple'>\n"
     ]
    }
   ],
   "source": [
    "t=(1,2,3,4)\n",
    "print(t)\n",
    "print(type(t))"
   ]
  },
  {
   "cell_type": "code",
   "execution_count": 76,
   "metadata": {},
   "outputs": [
    {
     "name": "stdout",
     "output_type": "stream",
     "text": [
      "(2, 3, 4)\n"
     ]
    }
   ],
   "source": [
    "print(t[1:4])"
   ]
  },
  {
   "cell_type": "markdown",
   "metadata": {},
   "source": [
    "### Standard libraries\n",
    "   - Regular Expression\n",
    "      - To Validate The Indian Mobile\n",
    "      - To Validate the EmailId\n",
    "      - To Validate The Username\n",
    "      - To validate the password\n",
    "    - Understanding the regular Ecpressins\n",
    "      - [0-9] -- any digit matching\n",
    "      - [a-z] -- any lower case matching\n",
    "      - [A-Z] -- any upper case matching\n",
    "      - cap Symbol is used to represent the start of regular expression\n",
    "      - dollor symbol is used to represent the end of regular expression\n",
    "      "
   ]
  },
  {
   "cell_type": "code",
   "execution_count": 79,
   "metadata": {},
   "outputs": [
    {
     "name": "stdout",
     "output_type": "stream",
     "text": [
      "True\n",
      "False\n"
     ]
    }
   ],
   "source": [
    "# funtion to test the two digit number as input\n",
    "# true -- Input teo digit number\n",
    "# false -- input not a two digit number\n",
    "import re\n",
    "def twodigit(n):\n",
    "    pattern = '^[0-9]{2}$'\n",
    "    n=str(n)\n",
    "    if re.match(pattern,n):\n",
    "        return True\n",
    "    else :\n",
    "        return False\n",
    "print(twodigit(12))\n",
    "print(twodigit(1445))"
   ]
  },
  {
   "cell_type": "code",
   "execution_count": 90,
   "metadata": {},
   "outputs": [
    {
     "name": "stdout",
     "output_type": "stream",
     "text": [
      "True\n",
      "False\n",
      "False\n"
     ]
    }
   ],
   "source": [
    "# Regular expression for usernames\n",
    "# username -- Should contains lower and upper case characters\n",
    "# length -- min  5 max 12\n",
    "def validname(s):\n",
    "    pattern='^[a-zA-Z]{4,11}$'\n",
    "    if re.match(pattern,s):\n",
    "        return True\n",
    "    else :\n",
    "        return False\n",
    "print(validname('bharat'))\n",
    "print(validname('nwkwwwowowowkwkwwkwkwkwkwwkw'))\n",
    "print(validname(\"san\"))"
   ]
  },
  {
   "cell_type": "markdown",
   "metadata": {},
   "source": [
    "### Regular Expressions\n",
    " - Regular Expression for RollNumber\n",
    "   - Example -1521A0501\n",
    "   - Example -"
   ]
  },
  {
   "cell_type": "code",
   "execution_count": null,
   "metadata": {},
   "outputs": [],
   "source": []
  },
  {
   "cell_type": "code",
   "execution_count": null,
   "metadata": {},
   "outputs": [],
   "source": []
  },
  {
   "cell_type": "code",
   "execution_count": null,
   "metadata": {},
   "outputs": [],
   "source": []
  },
  {
   "cell_type": "code",
   "execution_count": null,
   "metadata": {},
   "outputs": [],
   "source": []
  },
  {
   "cell_type": "code",
   "execution_count": null,
   "metadata": {},
   "outputs": [],
   "source": []
  },
  {
   "cell_type": "code",
   "execution_count": null,
   "metadata": {},
   "outputs": [],
   "source": []
  },
  {
   "cell_type": "code",
   "execution_count": null,
   "metadata": {},
   "outputs": [],
   "source": []
  },
  {
   "cell_type": "markdown",
   "metadata": {},
   "source": []
  },
  {
   "cell_type": "code",
   "execution_count": 48,
   "metadata": {},
   "outputs": [
    {
     "name": "stdout",
     "output_type": "stream",
     "text": [
      "True\n",
      "True\n",
      "True\n",
      "False\n"
     ]
    }
   ],
   "source": [
    "# Rule 1 : ^[6-9][0-9]{9}$\n",
    "# Rule 2 : ^[0][6-9][0-9]$\n",
    "# Rule 3 : ^[+][9][1][6-9][0-9]{9}$\n",
    "import re\n",
    "def validateIndianPhone(n):\n",
    "    pattern='^[6-9][0-9]{9}$|^[0][6-9][0-9]{9}$|^[+][9][1][6-9][0-9]{9}$'\n",
    "    n=str(n)\n",
    "    if re.match(pattern,n):\n",
    "        return True\n",
    "    return False\n",
    "print(validateIndianPhone(9441517235))\n",
    "print(validateIndianPhone('06157998441')) # 10 digits after 0\n",
    "print(validateIndianPhone('+919441517235'))\n",
    "print(validateIndianPhone('+611648798781'))"
   ]
  },
  {
   "cell_type": "markdown",
   "metadata": {},
   "source": [
    "### Validation of Email()\n",
    "   - Example : Username@DomainName.Extentiom\n",
    "   - username:\n",
    "         - len[6-15]\n",
    "         - no spl characters is allowed except (_,.)\n",
    "         - Username should not start with underscore(_)\n",
    "         - All characters set digits,lower case and uppercase\n",
    "                 - Example: April_154\n",
    "   - DomainName\n",
    "         - length of string(3-18)\n",
    "         - No special characters\n",
    "         - characters set will be Digits,lower and Upper case\n",
    "             - Example : gmail,hotmail,rediff,etc\n",
    "   - Extentions :\n",
    "         - Len of String will be [2-4]\n",
    "         - no spl characters allowed\n",
    "         - characters set with lower case\n",
    "         "
   ]
  },
  {
   "cell_type": "code",
   "execution_count": 56,
   "metadata": {},
   "outputs": [
    {
     "name": "stdout",
     "output_type": "stream",
     "text": [
      "True\n",
      "False\n",
      "False\n"
     ]
    }
   ],
   "source": [
    "import re\n",
    "def verifyEmail(s):\n",
    "    pattern='^[a-zA-Z0-9][a-zA-Z0-9._]{6,25}[@][a-zA-Z0-9]{3,18}[.][a-z]{2,4}$'\n",
    "    n=str(s)\n",
    "    if re.match(pattern,n):\n",
    "        return True\n",
    "    return False\n",
    "print(verifyEmail('bharat.senapathi.3@gmail.com'))\n",
    "print(verifyEmail('bharat'))\n",
    "print(verifyEmail(''))"
   ]
  },
  {
   "cell_type": "markdown",
   "metadata": {},
   "source": [
    "### Python Graphics\n",
    "   - lib -turtle"
   ]
  },
  {
   "cell_type": "markdown",
   "metadata": {},
   "source": [
    "### Package,Module and sub package\n",
    "#### Package\n",
    "     - A collective of Modules(Single Python file.py)\n",
    "#### Module\n",
    "     - A single Python file contans group of functions\n",
    "     - package --> Sub Package --> Functions --> Statements\n",
    "     - Import keyword is used to import the external lib packages int to the python program"
   ]
  },
  {
   "cell_type": "code",
   "execution_count": 57,
   "metadata": {},
   "outputs": [
    {
     "data": {
      "text/plain": [
       "123"
      ]
     },
     "execution_count": 57,
     "metadata": {},
     "output_type": "execute_result"
    }
   ],
   "source": [
    "import math\n",
    "math.floor(123.654)"
   ]
  },
  {
   "cell_type": "code",
   "execution_count": 58,
   "metadata": {},
   "outputs": [
    {
     "data": {
      "text/plain": [
       "124"
      ]
     },
     "execution_count": 58,
     "metadata": {},
     "output_type": "execute_result"
    }
   ],
   "source": [
    "math.ceil(123.457)"
   ]
  },
  {
   "cell_type": "code",
   "execution_count": 60,
   "metadata": {},
   "outputs": [
    {
     "data": {
      "text/plain": [
       "120"
      ]
     },
     "execution_count": 60,
     "metadata": {},
     "output_type": "execute_result"
    }
   ],
   "source": [
    "from math import factorial as fact\n",
    "fact(5)"
   ]
  },
  {
   "cell_type": "code",
   "execution_count": 62,
   "metadata": {},
   "outputs": [
    {
     "data": {
      "text/plain": [
       "5"
      ]
     },
     "execution_count": 62,
     "metadata": {},
     "output_type": "execute_result"
    }
   ],
   "source": [
    "from math import gcd as g # Greatest common divisor\n",
    "g(10,15)"
   ]
  },
  {
   "cell_type": "code",
   "execution_count": 1,
   "metadata": {},
   "outputs": [
    {
     "name": "stdout",
     "output_type": "stream",
     "text": [
      "0 2 4 2 3 2 5 4 1 0 "
     ]
    }
   ],
   "source": [
    "# import ramdom package\n",
    "import random\n",
    "# Function to generate the N numbers in given range\n",
    "def generateRandom(n,lb,ub):\n",
    "    for i in range(0,n):\n",
    "        print(random.randint(lb,ub),end=' ')\n",
    "    return\n",
    "generateRandom(10,0,5)"
   ]
  },
  {
   "cell_type": "code",
   "execution_count": null,
   "metadata": {},
   "outputs": [],
   "source": [
    "# Create a simple game\n",
    "# Try to generate 20 numbers\n",
    "# input  : Number\n",
    "# present : Congrats!!!\n",
    "# Not present : Try again"
   ]
  },
  {
   "cell_type": "code",
   "execution_count": null,
   "metadata": {},
   "outputs": [],
   "source": []
  },
  {
   "cell_type": "code",
   "execution_count": null,
   "metadata": {},
   "outputs": [],
   "source": []
  },
  {
   "cell_type": "code",
   "execution_count": null,
   "metadata": {},
   "outputs": [],
   "source": []
  },
  {
   "cell_type": "code",
   "execution_count": null,
   "metadata": {},
   "outputs": [],
   "source": []
  }
 ],
 "metadata": {
  "kernelspec": {
   "display_name": "Python 3",
   "language": "python",
   "name": "python3"
  },
  "language_info": {
   "codemirror_mode": {
    "name": "ipython",
    "version": 3
   },
   "file_extension": ".py",
   "mimetype": "text/x-python",
   "name": "python",
   "nbconvert_exporter": "python",
   "pygments_lexer": "ipython3",
   "version": "3.7.4"
  }
 },
 "nbformat": 4,
 "nbformat_minor": 2
}
