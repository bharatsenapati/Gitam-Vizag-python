{
 "cells": [
  {
   "cell_type": "markdown",
   "metadata": {},
   "source": [
    "### Programming in python with strings\n"
   ]
  },
  {
   "cell_type": "code",
   "execution_count": 2,
   "metadata": {},
   "outputs": [
    {
     "name": "stdout",
     "output_type": "stream",
     "text": [
      "python   programming   A\n",
      "<class 'str'>\n",
      "<class 'str'>\n",
      "<class 'str'>\n"
     ]
    }
   ],
   "source": [
    "s1='python'\n",
    "s2='programming'\n",
    "s3='A'\n",
    "print(s1,' ',s2,' ',s3)\n",
    "print(type(s1))\n",
    "print(type(s2))\n",
    "print(type(s3))"
   ]
  },
  {
   "cell_type": "markdown",
   "metadata": {},
   "source": [
    "### Slicing of a string\n"
   ]
  },
  {
   "cell_type": "code",
   "execution_count": 10,
   "metadata": {},
   "outputs": [
    {
     "name": "stdout",
     "output_type": "stream",
     "text": [
      "p\n",
      "y\n",
      "6\n",
      "n\n",
      "n\n"
     ]
    }
   ],
   "source": [
    "s1='python'\n",
    "print(s1[0]) #Accessing the first character in string\n",
    "print(s1[1]) #Accessing the second character in string\n",
    "print(len(s1))\n",
    "print(s1[len(s1)-1]) #Acessing the last character\n",
    "print(s1[-1])"
   ]
  },
  {
   "cell_type": "code",
   "execution_count": 29,
   "metadata": {},
   "outputs": [
    {
     "name": "stdout",
     "output_type": "stream",
     "text": [
      "py\n",
      "on\n",
      "thon\n",
      "th\n",
      "ytho\n",
      "nohtyp\n",
      "yp\n"
     ]
    }
   ],
   "source": [
    "print(s1[0:2]) # First Two Characters\n",
    "print(s1[-2:]) # last two characters\n",
    "print(s1[2:]) #  2 to last\n",
    "print(s1[2:-2]) # 2 To last 2\n",
    "print(s1[1:-1]) # Except first and last\n",
    "print(s1[len(s1)-1::-1]) \n",
    "print(s1[1::-1])"
   ]
  },
  {
   "cell_type": "code",
   "execution_count": 31,
   "metadata": {},
   "outputs": [
    {
     "name": "stdout",
     "output_type": "stream",
     "text": [
      "mom\n",
      "true\n"
     ]
    }
   ],
   "source": [
    "# To check palindrome\n",
    "def palin(s):\n",
    "    if s==s[-1::-1]:\n",
    "        print('true')\n",
    "    else :\n",
    "        print('False')\n",
    "palin(input())"
   ]
  },
  {
   "cell_type": "code",
   "execution_count": 42,
   "metadata": {},
   "outputs": [
    {
     "name": "stdout",
     "output_type": "stream",
     "text": [
      "B H A R A T "
     ]
    }
   ],
   "source": [
    "# Print the ASCII\n",
    "# A-Z:65-90\n",
    "# a-z:97-122\n",
    "# 0-9:48-57\n",
    "# space:32\n",
    "def printUpper(s):\n",
    "    for i in range(len(s)):\n",
    "        if ord(s[i])>=65 and ord(s[i])<=98:\n",
    "            print(s[i],end=' ')\n",
    "    return\n",
    "printUpper('BHARAT')"
   ]
  },
  {
   "cell_type": "code",
   "execution_count": 43,
   "metadata": {},
   "outputs": [
    {
     "name": "stdout",
     "output_type": "stream",
     "text": [
      "3\n",
      "Same Count\n"
     ]
    }
   ],
   "source": [
    "# Print Same count if no of small and capitol are same\n",
    "# Else print Programing\n",
    "def printUpper(s):\n",
    "    c=d=0\n",
    "    for i in range(len(s)):\n",
    "        if ord(s[i])>=65 and ord(s[i])<=98:\n",
    "            c=c+1\n",
    "        elif ord(s[i])>=97 and ord(s[i])<=122:\n",
    "            d=d+1\n",
    "    if c==d:\n",
    "        print(\"Same Count\")\n",
    "    else :print(\"Programming\")\n",
    "    return\n",
    "printUpper('pYthON')"
   ]
  },
  {
   "cell_type": "code",
   "execution_count": 46,
   "metadata": {},
   "outputs": [
    {
     "name": "stdout",
     "output_type": "stream",
     "text": [
      "appli18cation89\n",
      "1 8 8 9 "
     ]
    }
   ],
   "source": [
    "# Print the digits in a given string\n",
    "def digit(n):\n",
    "    for i in range(len(n)):\n",
    "        if ord(n[i])>=48 and ord(n[i])<=57:\n",
    "            print(n[i],end=' ')\n",
    "    return\n",
    "digit(input())"
   ]
  },
  {
   "cell_type": "code",
   "execution_count": 47,
   "metadata": {},
   "outputs": [
    {
     "name": "stdout",
     "output_type": "stream",
     "text": [
      "appli18cation89\n",
      "26\n"
     ]
    }
   ],
   "source": [
    "# Print the sum of digits in a given string\n",
    "def digit(n):\n",
    "    s=0\n",
    "    for i in range(len(n)):\n",
    "        if ord(n[i])>=48 and ord(n[i])<=57:\n",
    "            s=s+int(n[i])\n",
    "    print(s)\n",
    "    return\n",
    "digit(input())"
   ]
  },
  {
   "cell_type": "code",
   "execution_count": 17,
   "metadata": {},
   "outputs": [
    {
     "name": "stdout",
     "output_type": "stream",
     "text": [
      "python made easy\n",
      "MADE"
     ]
    }
   ],
   "source": [
    "# Function to 2nd word in upper case\n",
    "# input: Python made easy\n",
    "# output : Python MADE easy\n",
    "# input: Learn Python Strings\n",
    "# output: PYTHON\n",
    "def upper(s):\n",
    "    for i in range(len(s)):\n",
    "        if ord(s[i])==32 :\n",
    "            i=i+1\n",
    "            while (ord(s[i]))!=32:\n",
    "                print(s[i].upper(),end='')\n",
    "                i=i+1\n",
    "            break\n",
    "    return \n",
    "upper(input())"
   ]
  },
  {
   "cell_type": "markdown",
   "metadata": {},
   "source": [
    "### List\n",
    "- one of the data structure in python\n",
    "- Data Structure means to store , sort , and search options\n",
    "- it's one common data structure in python ,the items of list seperated by comma and enclosed in square brackets[]\n",
    "    - Example\n",
    "        -list1=[1,2,3,4]\n",
    "        -list2=['gitam',1,2,1.89.'vizag']\n",
    "        "
   ]
  },
  {
   "cell_type": "code",
   "execution_count": 27,
   "metadata": {},
   "outputs": [
    {
     "name": "stdout",
     "output_type": "stream",
     "text": [
      "[1, 2, 3, 4, 5, 6]\n",
      "1\n",
      "2\n",
      "3\n",
      "4\n",
      "5\n",
      "[2, 3, 4, 5, 6]\n",
      "[6, 5, 4, 3, 2, 1]\n",
      "[6, 5, 4, 3]\n",
      "[1, 2, 3, 4, 5, 6]\n"
     ]
    }
   ],
   "source": [
    "l=[1,2,3,4,5,6]\n",
    "print(l)\n",
    "print(l[0])\n",
    "print(l[1])\n",
    "print(l[2])\n",
    "print(l[3])\n",
    "print(l[4])\n",
    "print(l[1:])\n",
    "print(l[-1::-1])\n",
    "print(l[5:1:-1])\n",
    "print(l[:])"
   ]
  },
  {
   "cell_type": "code",
   "execution_count": 32,
   "metadata": {},
   "outputs": [
    {
     "name": "stdout",
     "output_type": "stream",
     "text": [
      "['gitam', 1582, 2018, 2019, 'Vizag']\n",
      "['gitam', 1234, 2018, 2019, 'Vizag']\n",
      "['gitam', 1234, 2018, 'Vizag']\n"
     ]
    }
   ],
   "source": [
    "l=['gitam',1582,2018,2019,'Vizag']\n",
    "print(l)\n",
    "l[1]=1234 #Updating\n",
    "print(l)\n",
    "del l[3] # Deleting\n",
    "print(l)\n"
   ]
  },
  {
   "cell_type": "code",
   "execution_count": 48,
   "metadata": {},
   "outputs": [
    {
     "name": "stdout",
     "output_type": "stream",
     "text": [
      "5\n",
      "[1, 2, 3, 4, 5, 1, 2, 3, 4, 5]\n",
      "[1, 2, 3, 4, 5]\n",
      "True\n",
      "1 2 3 4 5 \n",
      "1 2 3 4 5 \n",
      "[1, 2, 3, 4, 5]\n"
     ]
    }
   ],
   "source": [
    "l=[1,2,3,4,5]\n",
    "print(len(l))\n",
    "print(l*2)\n",
    "print(l)\n",
    "if 1 in l:\n",
    "    print(True)\n",
    "for i in range (len(l)):\n",
    "    print(l[i],end=' ')\n",
    "print()\n",
    "for i in l:\n",
    "    print(i,end=' ')\n",
    "print()\n",
    "print(l[:])"
   ]
  },
  {
   "cell_type": "code",
   "execution_count": 55,
   "metadata": {},
   "outputs": [
    {
     "name": "stdout",
     "output_type": "stream",
     "text": [
      "5\n",
      "1\n",
      "15\n",
      "3\n"
     ]
    }
   ],
   "source": [
    "print(max(l)) # If list consits of all integers\n",
    "print(min(l))\n",
    "print(sum(l))\n",
    "print(sum(l)//len(l))"
   ]
  },
  {
   "cell_type": "code",
   "execution_count": 64,
   "metadata": {},
   "outputs": [
    {
     "name": "stdout",
     "output_type": "stream",
     "text": [
      "[1, 9, 16, 25, 5, 29]\n",
      "1\n",
      "[1, 9, 56, 16, 25, 5, 29]\n",
      "2\n",
      "[1, 9, 56, 16, 25, 5, 29, 9]\n"
     ]
    }
   ],
   "source": [
    "# methods of list\n",
    "l=[1,9,16,25,5]\n",
    "l.append(29)\n",
    "print(l)\n",
    "l.insert(2,56) # at index 2\n",
    "print(l.count(9)) # \n",
    "print(l)\n",
    "l.append(9)\n",
    "print(l.count(9)) # to tell no of 9\n",
    "print(l)"
   ]
  },
  {
   "cell_type": "code",
   "execution_count": 67,
   "metadata": {},
   "outputs": [
    {
     "name": "stdout",
     "output_type": "stream",
     "text": [
      "[1, 5, 9, 16, 25]\n"
     ]
    }
   ],
   "source": [
    "l.pop() # removing last element\n",
    "l.sort()\n",
    "print(l)"
   ]
  },
  {
   "cell_type": "code",
   "execution_count": 69,
   "metadata": {},
   "outputs": [
    {
     "name": "stdout",
     "output_type": "stream",
     "text": [
      "[1, 16, 25]\n"
     ]
    }
   ],
   "source": [
    "l.pop(1)\n",
    "print(l)"
   ]
  },
  {
   "cell_type": "code",
   "execution_count": 73,
   "metadata": {},
   "outputs": [
    {
     "name": "stdout",
     "output_type": "stream",
     "text": [
      "[1, 1, 6, 16, 19, 25, 25]\n"
     ]
    }
   ],
   "source": [
    "l1=[1,6,19,25]\n",
    "l1.extend(l)\n",
    "l1.reverse()\n",
    "l1.sort()\n",
    "print(l1)"
   ]
  },
  {
   "cell_type": "code",
   "execution_count": 97,
   "metadata": {},
   "outputs": [
    {
     "name": "stdout",
     "output_type": "stream",
     "text": [
      "9\n",
      "[1, 2, 3, 4, 5, 6, 8, 54, 6888]\n",
      "6\n"
     ]
    }
   ],
   "source": [
    "# largest number in a given list\n",
    "def largenumber(l1):\n",
    "    l1.sort()\n",
    "    return l1[-1]\n",
    "def genriclarge(l1,n):\n",
    "    l1.sort()\n",
    "    print(l1)\n",
    "    return l1[-n]\n",
    "print(largenumber([1,2,3,4,6,5,8,9]))\n",
    "print(genriclarge([1, 2,3,4,5,6,8,54,6888],4))"
   ]
  },
  {
   "cell_type": "code",
   "execution_count": 105,
   "metadata": {},
   "outputs": [
    {
     "name": "stdout",
     "output_type": "stream",
     "text": [
      "1 2 3 4 5 6\n",
      "1 2 3 4 5 6\n",
      "<class 'str'>  \n"
     ]
    }
   ],
   "source": [
    "l=[]\n",
    "l=input()\n",
    "print(l)\n",
    "print(type(l[3]),' ',)"
   ]
  },
  {
   "cell_type": "markdown",
   "metadata": {},
   "source": [
    "### File Handling in python\n",
    "   - file- Document which contains some information and residents on permanent\n",
    "   - different Types of file -.txt,.pdf,.doc,.ppl and etc \n",
    "   - input - keyword\n",
    "   - output - file system"
   ]
  },
  {
   "cell_type": "code",
   "execution_count": 111,
   "metadata": {},
   "outputs": [
    {
     "name": "stdout",
     "output_type": "stream",
     "text": [
      "File is created and data is inserted\n"
     ]
    }
   ],
   "source": [
    "# Function  to create a file and write some data of the file\n",
    "# mode -- w[it creates and writes data to file]\n",
    "#           If file with same name then it rewrites a data\n",
    "def createFile(filename):\n",
    "    f=open(filename,'w')\n",
    "    for i in range(10):\n",
    "        f.write(\"This is %d Line \\n\" %i)\n",
    "    print(\"File is created and data is inserted\")\n",
    "    return\n",
    "createFile(\"Data.txt\")"
   ]
  },
  {
   "cell_type": "code",
   "execution_count": 112,
   "metadata": {},
   "outputs": [
    {
     "data": {
      "text/plain": [
       "'C:\\\\Users\\\\bhara\\\\Desktop\\\\Problem solving and programming\\\\18-09-2019'"
      ]
     },
     "execution_count": 112,
     "metadata": {},
     "output_type": "execute_result"
    }
   ],
   "source": [
    "pwd\n"
   ]
  },
  {
   "cell_type": "code",
   "execution_count": 113,
   "metadata": {},
   "outputs": [
    {
     "name": "stdout",
     "output_type": "stream",
     "text": [
      "Completed succesfuly\n"
     ]
    }
   ],
   "source": [
    "# Data Over written\n",
    "def createFile(filename):\n",
    "    f=open(filename,'w')\n",
    "    for i in range(10):\n",
    "        f.write(\"dude  %d \\n\" %i)\n",
    "    print(\"Completed succesfuly\")\n",
    "    return\n",
    "createFile(\"Data.txt\")"
   ]
  },
  {
   "cell_type": "code",
   "execution_count": 116,
   "metadata": {},
   "outputs": [
    {
     "name": "stdout",
     "output_type": "stream",
     "text": [
      "File is created and data is inserted\n"
     ]
    }
   ],
   "source": [
    "# MOde -- a append mode \n",
    "#          IF file is not present then new file is created\n",
    "def appendfile(filename):\n",
    "    f=open(filename,'a')\n",
    "    f.write(\"Python \\n\")\n",
    "    f.write(\"programming \\n\")\n",
    "    print(\"File is created and data is inserted\")\n",
    "    return\n",
    "appendfile(\"Data.txt\")"
   ]
  },
  {
   "cell_type": "code",
   "execution_count": 118,
   "metadata": {},
   "outputs": [
    {
     "name": "stdout",
     "output_type": "stream",
     "text": [
      "dude  0 \n",
      "dude  1 \n",
      "dude  2 \n",
      "dude  3 \n",
      "dude  4 \n",
      "dude  5 \n",
      "dude  6 \n",
      "dude  7 \n",
      "dude  8 \n",
      "dude  9 \n",
      "Python \n",
      " programming \n",
      "Python \n",
      "programming \n",
      "\n"
     ]
    }
   ],
   "source": [
    "# Funtion to read a file\n",
    "def readFileData(filename):\n",
    "    f=open(filename,'r')\n",
    "    if f.mode=='r':\n",
    "        a=f.read()\n",
    "        print(a)\n",
    "    f.close()\n",
    "    return \n",
    "readFileData('Data.txt')"
   ]
  },
  {
   "cell_type": "code",
   "execution_count": 120,
   "metadata": {},
   "outputs": [
    {
     "data": {
      "text/plain": [
       "24"
      ]
     },
     "execution_count": 120,
     "metadata": {},
     "output_type": "execute_result"
    }
   ],
   "source": [
    "# Word Count\n",
    "def wordcount(filename):\n",
    "    with open(filename,'r') as f:\n",
    "        if f.mode == 'r':\n",
    "            a=f.read()\n",
    "            li=a.split()\n",
    "    return len(li)\n",
    "wordcount('Data.txt')"
   ]
  },
  {
   "cell_type": "code",
   "execution_count": 129,
   "metadata": {},
   "outputs": [
    {
     "name": "stdout",
     "output_type": "stream",
     "text": [
      "dude\n"
     ]
    },
    {
     "data": {
      "text/plain": [
       "10"
      ]
     },
     "execution_count": 129,
     "metadata": {},
     "output_type": "execute_result"
    }
   ],
   "source": [
    "# Specific Word count file\n",
    "# Input -- Dude \n",
    "# Output -- 10\n",
    "# Input -- 1\n",
    "# output -- 1\n",
    "def wordcount(filename,s):\n",
    "    with open(filename,'r') as f:\n",
    "        if f.mode == 'r':\n",
    "            a=f.read()\n",
    "            li=a.split()\n",
    "    return li.count(s)\n",
    "wordcount('Data.txt',input())"
   ]
  },
  {
   "cell_type": "code",
   "execution_count": 133,
   "metadata": {},
   "outputs": [
    {
     "name": "stdout",
     "output_type": "stream",
     "text": [
      "['P', 'y', 't', 'h', 'o', 'n', 'P', 'r', 'o', 'g', 'r', 'a', 'm', 'm', 'i', 'n', 'g']\n"
     ]
    }
   ],
   "source": [
    "s=\"PythonProgramming\"\n",
    "li=list(s)\n",
    "print(li)"
   ]
  },
  {
   "cell_type": "code",
   "execution_count": 131,
   "metadata": {},
   "outputs": [
    {
     "data": {
      "text/plain": [
       "133"
      ]
     },
     "execution_count": 131,
     "metadata": {},
     "output_type": "execute_result"
    }
   ],
   "source": [
    "# Analysis on the file -- word count,Char and digit count\n",
    "# List(' ')\n",
    "def charCount(filename):\n",
    "    with open(filename,'r') as f:\n",
    "        if f.mode=='r':\n",
    "            a=f.read()\n",
    "            li=list(a)\n",
    "    return len(li)\n",
    "charCount('Data.txt')"
   ]
  },
  {
   "cell_type": "code",
   "execution_count": 149,
   "metadata": {},
   "outputs": [
    {
     "name": "stdout",
     "output_type": "stream",
     "text": [
      "{1, 2, 3, 5, 6, 8, ' '}\n"
     ]
    }
   ],
   "source": [
    "l=[' ',' ',1,2,1,3,1,5,1,6,1,8,1]\n",
    "l1=[]\n",
    "l1=set(l)\n",
    "print(l1)"
   ]
  },
  {
   "cell_type": "code",
   "execution_count": null,
   "metadata": {},
   "outputs": [],
   "source": []
  },
  {
   "cell_type": "code",
   "execution_count": 169,
   "metadata": {},
   "outputs": [
    {
     "data": {
      "text/plain": [
       "14"
      ]
     },
     "execution_count": 169,
     "metadata": {},
     "output_type": "execute_result"
    }
   ],
   "source": [
    "# Find the no of lines or rows in the given input\n",
    "def filelinecount(filename):\n",
    "    with open(filename,'r') as f:\n",
    "        if f.mode=='r':\n",
    "            a=f.read()\n",
    "            li=a.split('\\n')\n",
    "    return len(li)\n",
    "filelinecount(\"Data.txt\")"
   ]
  },
  {
   "cell_type": "code",
   "execution_count": 171,
   "metadata": {},
   "outputs": [
    {
     "data": {
      "text/plain": [
       "'Upper Case:2 Lower Case: 72 Digit: 10'"
      ]
     },
     "execution_count": 171,
     "metadata": {},
     "output_type": "execute_result"
    }
   ],
   "source": [
    "# Funtion to find the upper and lower case characters \n",
    "# from the input stream\n",
    "def casecount(filename):\n",
    "    u=0\n",
    "    l=0\n",
    "    d=0\n",
    "    with open(filename,'r') as f:\n",
    "        if f.mode=='r':\n",
    "            a=f.read()\n",
    "            li=list(a)\n",
    "    for i in range(len(li)):\n",
    "        if ord(li[i])>=65 and ord(li[i])<=90:\n",
    "            u=u+1\n",
    "        elif ord(li[i])>=97 and ord(li[i])<=122:\n",
    "            l=l+1\n",
    "        elif ord(li[i])>=48 and ord(li[i])<=57:\n",
    "            d=d+1\n",
    "    output='Upper Case:{0} Lower Case: {1} Digit: {2}'.format(u,l,d)\n",
    "    return output\n",
    "casecount(\"Data.txt\")"
   ]
  },
  {
   "cell_type": "code",
   "execution_count": 172,
   "metadata": {},
   "outputs": [
    {
     "data": {
      "text/plain": [
       "[1, 2, 3, 4]"
      ]
     },
     "execution_count": 172,
     "metadata": {},
     "output_type": "execute_result"
    }
   ],
   "source": [
    "l=[1,2,3,4,4]\n",
    "l[:-1]"
   ]
  },
  {
   "cell_type": "code",
   "execution_count": 1,
   "metadata": {},
   "outputs": [
    {
     "name": "stdout",
     "output_type": "stream",
     "text": [
      "3\n"
     ]
    }
   ],
   "source": [
    "str='abababadaadbbaccabc' \n",
    "print (str.count('ab',-17,-1))"
   ]
  },
  {
   "cell_type": "markdown",
   "metadata": {},
   "source": [
    "### String Functions\n",
    " - upper() -Will convert to upperCase\n",
    " - lower() - Will convert to lower case\n",
    " - title() - To change first character of every word to capitol \n",
    "### String boolean Functions\n",
    " - islower() - To check if it is a lower case letter\n",
    " - isupper() - To check if it is a upper case letter\n",
    " - istitle() - True if string is in title case\n",
    " - isnumeric() -To check if it a number\n",
    " - isalpha() -True if only contains alphabets\n",
    " - issapce() - True if contains is a space"
   ]
  },
  {
   "cell_type": "code",
   "execution_count": 2,
   "metadata": {},
   "outputs": [
    {
     "name": "stdout",
     "output_type": "stream",
     "text": [
      "python\n",
      "PYTHON\n",
      "False\n",
      "False\n"
     ]
    }
   ],
   "source": [
    "s='Python'\n",
    "print(s.lower())\n",
    "print(s.upper())\n",
    "print(s.islower())\n",
    "print(s.isupper())"
   ]
  },
  {
   "cell_type": "code",
   "execution_count": 5,
   "metadata": {},
   "outputs": [
    {
     "name": "stdout",
     "output_type": "stream",
     "text": [
      "BHARAT\n",
      "bharat\n",
      "BHARAT\n"
     ]
    }
   ],
   "source": [
    "s='bharat'\n",
    "print(s.upper())\n",
    "print(s)\n",
    "s=s.upper()\n",
    "print(s)"
   ]
  },
  {
   "cell_type": "code",
   "execution_count": 8,
   "metadata": {},
   "outputs": [
    {
     "name": "stdout",
     "output_type": "stream",
     "text": [
      "True\n",
      "Python Programming\n"
     ]
    }
   ],
   "source": [
    "s1='Python Programming'\n",
    "print(s1.istitle())\n",
    "s2='python programming'\n",
    "print(s2.title())"
   ]
  },
  {
   "cell_type": "code",
   "execution_count": 14,
   "metadata": {},
   "outputs": [
    {
     "name": "stdout",
     "output_type": "stream",
     "text": [
      "True\n",
      "False\n"
     ]
    }
   ],
   "source": [
    "s='1230'\n",
    "print(s.isnumeric())\n",
    "s1='abc '\n",
    "print(s1.isalpha())"
   ]
  },
  {
   "cell_type": "code",
   "execution_count": 13,
   "metadata": {},
   "outputs": [
    {
     "name": "stdout",
     "output_type": "stream",
     "text": [
      "True\n"
     ]
    }
   ],
   "source": [
    "s=\"   \"\n",
    "print(s.isspace())"
   ]
  },
  {
   "cell_type": "markdown",
   "metadata": {},
   "source": [
    "### String methods\n",
    " - split() - To seperate the word from a sentence\n",
    " - replace()\n",
    " - join()- concatinate strings"
   ]
  },
  {
   "cell_type": "code",
   "execution_count": 25,
   "metadata": {},
   "outputs": [
    {
     "name": "stdout",
     "output_type": "stream",
     "text": [
      "['Python', 'programming', 'is', 'easy']\n",
      "['Python progr', 'mming is e', 'sy']\n",
      "['P', 'y', 't', 'h', 'o', 'n', ' ', 'p', 'r', 'o', 'g', 'r', 'a', 'm', 'm', 'i', 'n', 'g', ' ', 'i', 's', ' ', 'e', 'a', 's', 'y']\n",
      "Python - programming - is - easy\n",
      "Python progr@mming is e@sy\n",
      "P  Bharat  y  Bharat  t  Bharat  h  Bharat  o  Bharat  n  Bharat     Bharat  p  Bharat  r  Bharat  o  Bharat  g  Bharat  r  Bharat  a  Bharat  m  Bharat  m  Bharat  i  Bharat  n  Bharat  g  Bharat     Bharat  i  Bharat  s  Bharat     Bharat  e  Bharat  a  Bharat  s  Bharat  y\n"
     ]
    }
   ],
   "source": [
    "s= \"Python programming is easy\"\n",
    "print(s.split())\n",
    "print(s.split('a'))\n",
    "print(list(s))\n",
    "print(s.replace(' ',' - '))\n",
    "print(s.replace('a','@'))\n",
    "s1= \"  Bharat  \"\n",
    "print(s1.join(s))"
   ]
  },
  {
   "cell_type": "markdown",
   "metadata": {},
   "source": []
  },
  {
   "cell_type": "code",
   "execution_count": null,
   "metadata": {},
   "outputs": [],
   "source": []
  }
 ],
 "metadata": {
  "kernelspec": {
   "display_name": "Python 3",
   "language": "python",
   "name": "python3"
  },
  "language_info": {
   "codemirror_mode": {
    "name": "ipython",
    "version": 3
   },
   "file_extension": ".py",
   "mimetype": "text/x-python",
   "name": "python",
   "nbconvert_exporter": "python",
   "pygments_lexer": "ipython3",
   "version": "3.7.4"
  }
 },
 "nbformat": 4,
 "nbformat_minor": 2
}
